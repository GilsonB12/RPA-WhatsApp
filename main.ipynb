{
 "cells": [
  {
   "cell_type": "markdown",
   "metadata": {},
   "source": [
    "# RPA\n",
    "Simples RPA para abrir e mandar mensagens em um grupo específico do Whatsapp"
   ]
  },
  {
   "cell_type": "code",
   "execution_count": 12,
   "metadata": {},
   "outputs": [
    {
     "name": "stdout",
     "output_type": "stream",
     "text": [
      "227 429 262 32\n"
     ]
    }
   ],
   "source": [
    "import pyautogui\n",
    "import time\n",
    "# pyautogui.write() -> escreve \n",
    "# .click -> clica\n",
    "# .locateOnScreen -> identifica uma imagem na sua tela\n",
    "# .hotkey -> usa atalhos do teclado\n",
    "# .press _> aperta um botão do teclado\n",
    "\n",
    "pyautogui.PAUSE = 1\n",
    "# partar windows do teclado\n",
    "pyautogui.press('win')\n",
    "# digitar chrome\n",
    "pyautogui.write('chrome')\n",
    "# apertar enter\n",
    "pyautogui.press('enter')\n",
    "# entrar no whatsapp\n",
    "pyautogui.write('web')\n",
    "# apertar enter\n",
    "pyautogui.press('enter')\n",
    "# descobrir coordenadas da imagem onde deve clicar\n",
    "time.sleep(6)\n",
    "x, y, largura, altura = pyautogui.locateOnScreen('Captura de tela 2023-08-31 172719.png') # IMG do Grupo em específo do Whatsapp que vou enviar a mensagem\n",
    "print(x, y, largura, altura)\n",
    "# clicar no meio da imagem\n",
    "pyautogui.click((x + largura/2), (y + altura/2))\n",
    "pyautogui.write('Oi o pai ta on')\n",
    "pyautogui.press('enter')"
   ]
  }
 ],
 "metadata": {
  "kernelspec": {
   "display_name": "Python 3",
   "language": "python",
   "name": "python3"
  },
  "language_info": {
   "codemirror_mode": {
    "name": "ipython",
    "version": 3
   },
   "file_extension": ".py",
   "mimetype": "text/x-python",
   "name": "python",
   "nbconvert_exporter": "python",
   "pygments_lexer": "ipython3",
   "version": "3.11.4"
  },
  "orig_nbformat": 4
 },
 "nbformat": 4,
 "nbformat_minor": 2
}
